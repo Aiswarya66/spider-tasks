{
 "cells": [
  {
   "cell_type": "code",
   "execution_count": 1,
   "metadata": {},
   "outputs": [
    {
     "name": "stdout",
     "output_type": "stream",
     "text": [
      "991\n",
      "3\n"
     ]
    }
   ],
   "source": [
    "n=int(input()) #enter number                #problem 1\n",
    "m=n #copying input\n",
    "def l_t(n):\n",
    "    lst=[]\n",
    "    while(n!=0):\n",
    "        k=int(n%10)\n",
    "        lst.append(k)\n",
    "        n=int(n/10) \n",
    "    return lst\n",
    "def s_m(lst):\n",
    "    p=sum(lst)\n",
    "    if(int(p/10)!=0):\n",
    "        return(1)\n",
    "    else:\n",
    "        return(0)\n",
    "i=1\n",
    "while(int(n/10)!=0):\n",
    "    n1=l_t(n)\n",
    "    m1=sum(n1)\n",
    "    if(int(m1/10)!=0):\n",
    "         i+=1\n",
    "    n=sum(n1)\n",
    "if(int(m/10)==0):\n",
    "    print('0')\n",
    "else:\n",
    "    print(i)"
   ]
  },
  {
   "cell_type": "code",
   "execution_count": 24,
   "metadata": {},
   "outputs": [
    {
     "name": "stdout",
     "output_type": "stream",
     "text": [
      "2\n",
      "4\n",
      "1 2 3 4\n",
      "5\n"
     ]
    }
   ],
   "source": [
    "#problem2\n",
    "n=int(input())  #wall length\n",
    "m=int(input())  #number of bricks\n",
    "s=list(map(int,input().strip().split()))[:m] #to input strength of each brick\n",
    "from itertools import combinations\n",
    "r=[];ss=sum(s)\n",
    "for i in range(m-1):\n",
    "    comb=combinations(s,i)\n",
    "    for item in comb:\n",
    "        s1=sum(item)\n",
    "        k=ss-s1\n",
    "        r.append(min(s1,k))\n",
    "if(m in range(1,10**5+1)):\n",
    "    for q in range(m):\n",
    "        if(s[q] in range(1,10**9+1)):\n",
    "            test=1\n",
    "if(test==1):\n",
    "    print(max(r))"
   ]
  },
  {
   "cell_type": "code",
   "execution_count": 50,
   "metadata": {},
   "outputs": [
    {
     "name": "stdout",
     "output_type": "stream",
     "text": [
      "4\n",
      "3\n"
     ]
    }
   ],
   "source": [
    "#problem 3\n",
    "n=int(input()) #Number given by dhruv\n",
    "def p_c(m):\n",
    "    for i in range(2,m):\n",
    "        if(m%i==0):\n",
    "            return(0)\n",
    "k=1\n",
    "lst=[]\n",
    "for i in range(2,n+1):\n",
    "    if(p_c(i)!=0):\n",
    "        lst.append(k)\n",
    "        k+=1\n",
    "if((n>=2)&(n<=10**5)):\n",
    "    print(sum(lst))        #Print total sum of all such DISTINCT Ci."
   ]
  },
  {
   "cell_type": "code",
   "execution_count": null,
   "metadata": {},
   "outputs": [],
   "source": []
  },
  {
   "cell_type": "code",
   "execution_count": null,
   "metadata": {},
   "outputs": [],
   "source": []
  },
  {
   "cell_type": "code",
   "execution_count": null,
   "metadata": {},
   "outputs": [],
   "source": []
  },
  {
   "cell_type": "code",
   "execution_count": null,
   "metadata": {},
   "outputs": [],
   "source": []
  },
  {
   "cell_type": "code",
   "execution_count": null,
   "metadata": {},
   "outputs": [],
   "source": []
  }
 ],
 "metadata": {
  "kernelspec": {
   "display_name": "Python 3",
   "language": "python",
   "name": "python3"
  },
  "language_info": {
   "codemirror_mode": {
    "name": "ipython",
    "version": 3
   },
   "file_extension": ".py",
   "mimetype": "text/x-python",
   "name": "python",
   "nbconvert_exporter": "python",
   "pygments_lexer": "ipython3",
   "version": "3.7.6"
  }
 },
 "nbformat": 4,
 "nbformat_minor": 4
}
